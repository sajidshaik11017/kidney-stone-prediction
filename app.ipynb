{
 "cells": [
  {
   "cell_type": "code",
   "execution_count": 1,
   "id": "ed78deb8",
   "metadata": {},
   "outputs": [
    {
     "name": "stderr",
     "output_type": "stream",
     "text": [
      "2023-08-22 19:40:30.729 \n",
      "  \u001b[33m\u001b[1mWarning:\u001b[0m to view this Streamlit app on a browser, run it with the following\n",
      "  command:\n",
      "\n",
      "    streamlit run C:\\Users\\sajid\\.conda\\envs\\myenv\\Lib\\site-packages\\ipykernel_launcher.py [ARGUMENTS]\n"
     ]
    }
   ],
   "source": [
    "import streamlit as st\n",
    "import numpy as np\n",
    "from tensorflow.keras.models import load_model\n",
    "\n",
    "# Load the trained model\n",
    "model = load_model('my_model.h5')\n",
    "\n",
    "# Define a function to make a prediction\n",
    "def predict_target(gravity, ph, osmo, cond, urea, calc, osmo_cond_ratio, urea_calc_diff, osmo_urea_interaction, gravity_bin, ph_bin, osmo_bin, cond_bin, urea_bin, calc_bin):\n",
    "    \n",
    "    # Create a numpy array with the input values and reshape it for the model\n",
    "    input_data = np.array([[gravity, ph, osmo, cond, urea, calc, osmo_cond_ratio, urea_calc_diff, osmo_urea_interaction, gravity_bin, ph_bin, osmo_bin, cond_bin, urea_bin, calc_bin]])\n",
    "    input_data = np.reshape(input_data, (input_data.shape[0], input_data.shape[1], 1))\n",
    "    \n",
    "    # Make a prediction using the model\n",
    "    prediction = model.predict(input_data)\n",
    "    \n",
    "    # Return the predicted target value\n",
    "    return prediction[0][0]\n",
    "\n",
    "    \n",
    " # Add a title\n",
    "st.title(\"Kidney Stone Prediction App\")\n",
    "    \n",
    "# Add input fields for the features\n",
    "gravity = st.number_input(\"Enter gravity value\")\n",
    "ph = st.number_input(\"Enter pH value\")\n",
    "osmo = st.number_input(\"Enter osmo value\")\n",
    "cond = st.number_input(\"Enter cond value\")\n",
    "urea = st.number_input(\"Enter urea value\")\n",
    "calc = st.number_input(\"Enter calc value\")\n",
    "osmo_cond_ratio = st.number_input(\"Enter osmo_cond_ratio value\")\n",
    "urea_calc_diff = st.number_input(\"Enter urea_calc_diff value\")\n",
    "osmo_urea_interaction = st.number_input(\"Enter osmo_urea_interaction value\")\n",
    "gravity_bin = st.number_input(\"Enter gravity_bin value\")\n",
    "ph_bin = st.number_input(\"Enter ph_bin value\")\n",
    "osmo_bin = st.number_input(\"Enter osmo_bin value\")\n",
    "cond_bin = st.number_input(\"Enter cond_bin value\")\n",
    "urea_bin = st.number_input(\"Enter urea_bin value\")\n",
    "calc_bin = st.number_input(\"Enter calc_bin value\")\n",
    "    \n",
    "# Add a button to make the prediction\n",
    "if st.button(\"Predict\"):\n",
    "    prediction = predict_target(gravity, ph, osmo, cond, urea, calc, osmo_cond_ratio, urea_calc_diff, osmo_urea_interaction, gravity_bin, ph_bin, osmo_bin, cond_bin, urea_bin, calc_bin)\n",
    "    st.write(\"Predicted Target Value: \", prediction)\n",
    "    if prediction > 0.3:\n",
    "        st.write(\"You have kidney stone.\")\n",
    "    else:\n",
    "        st.write(\"You dont have kidney stone.\")"
   ]
  },
  {
   "cell_type": "code",
   "execution_count": null,
   "id": "a0d87e3d",
   "metadata": {},
   "outputs": [],
   "source": []
  }
 ],
 "metadata": {
  "kernelspec": {
   "display_name": "Python 3 (ipykernel)",
   "language": "python",
   "name": "python3"
  },
  "language_info": {
   "codemirror_mode": {
    "name": "ipython",
    "version": 3
   },
   "file_extension": ".py",
   "mimetype": "text/x-python",
   "name": "python",
   "nbconvert_exporter": "python",
   "pygments_lexer": "ipython3",
   "version": "3.11.3"
  }
 },
 "nbformat": 4,
 "nbformat_minor": 5
}
